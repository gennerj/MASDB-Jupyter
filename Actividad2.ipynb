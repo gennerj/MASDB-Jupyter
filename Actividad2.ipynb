{
  "cells": [
    {
      "cell_type": "markdown",
      "metadata": {
        "id": "view-in-github",
        "colab_type": "text"
      },
      "source": [
        "<a href=\"https://colab.research.google.com/github/gennerj/MASDB-Jupyter/blob/main/Actividad2.ipynb\" target=\"_parent\"><img src=\"https://colab.research.google.com/assets/colab-badge.svg\" alt=\"Open In Colab\"/></a>"
      ]
    },
    {
      "cell_type": "markdown",
      "metadata": {
        "id": "BqoyYHels9oI"
      },
      "source": [
        "# PORTADA"
      ]
    },
    {
      "cell_type": "markdown",
      "metadata": {
        "id": "uhXVBFGPs9oJ"
      },
      "source": [
        "> ### INTEGRANTES\n",
        "> 1. Bryan Aguilar\n",
        "2. Genner\n",
        "3. Fernando"
      ]
    },
    {
      "cell_type": "markdown",
      "metadata": {
        "id": "AUhe-S94s9oK"
      },
      "source": [
        "___"
      ]
    },
    {
      "cell_type": "markdown",
      "metadata": {
        "id": "PqerATP8s9oK"
      },
      "source": [
        "# ÍNDICE"
      ]
    },
    {
      "cell_type": "markdown",
      "metadata": {
        "id": "cqKffTMrs9oK"
      },
      "source": [
        "> 1. Introducción \n",
        "2. Necesidades y requisitos del usuario (análisis de requisitos) \n",
        "3. Diseño de la base de datos \n",
        "4. Despliegue de la base de datos \n",
        "5. Consultas a base de datos \n",
        "6. Conclusiones"
      ]
    },
    {
      "cell_type": "markdown",
      "metadata": {
        "id": "VKezAmaXs9oK"
      },
      "source": [
        "___"
      ]
    },
    {
      "cell_type": "markdown",
      "metadata": {
        "id": "LYTls3Zws9oL"
      },
      "source": [
        "## 1. Introducción"
      ]
    },
    {
      "cell_type": "markdown",
      "metadata": {
        "id": "311pIhAjs9oL"
      },
      "source": [
        "> **Descripción empresa (cliente):** Empresa ecuatoriana de fabricación y comercialización de tuberías, conexiones y accesorios\n",
        "de plástico PVC usados para la conducción de fluidos, tales como AAPP (Agua Potable), AALL \n",
        "(Aguas lluvias) y AASS (Aguas servidas) en proyectos de construcciones civiles. Además, esta \n",
        "empresa como parte de su programa de Responsabilidad Social Empresarial (RSE) brinda \n",
        "cursos gratuitos donde capacitan con técnicas y sus mejores prácticas sobre el uso, aplicación\n",
        "e instalación de sus productos a personas de sectores vulnerables con y sin conocimiento \n",
        "previo con el objetivo de mejorar y desarrollar habilidades y destrezas para desempeñarse \n",
        "como maestros y/o ayudantes de fontanería sea por cuenta propia o en relación de \n",
        "dependencia en trabajos que ellos mismos (maestros / ayudantes que en adelante se los \n",
        "nombra como técnicos) consigan."
      ]
    },
    {
      "cell_type": "markdown",
      "metadata": {
        "id": "TE96GkQ7s9oL"
      },
      "source": [
        "___"
      ]
    },
    {
      "cell_type": "markdown",
      "metadata": {
        "id": "oTqoRUFJs9oL"
      },
      "source": [
        "## 2. Necesidades y requisitos del usuario (análisis de requisitos)"
      ]
    },
    {
      "cell_type": "markdown",
      "metadata": {
        "id": "dv7cXU0Vs9oL"
      },
      "source": [
        "> Tabla con los requisitos finales entregados en 03MASW"
      ]
    },
    {
      "cell_type": "markdown",
      "metadata": {
        "id": "Fc4cKPh4s9oL"
      },
      "source": [
        "___"
      ]
    },
    {
      "cell_type": "markdown",
      "metadata": {
        "id": "aEf0Rou1s9oL"
      },
      "source": [
        "## 3. Diseño de la base de datos"
      ]
    },
    {
      "cell_type": "markdown",
      "metadata": {
        "id": "rPTfcIrps9oL"
      },
      "source": []
    },
    {
      "cell_type": "markdown",
      "metadata": {
        "id": "yzNJgFTjs9oL"
      },
      "source": [
        "> ## 3.1. **Diseño conceptual**\n",
        "\n",
        "\n",
        "> ### **PASOS:**<br />\n",
        "> **1. Identificación de entidades**\n",
        "> * Pedido: son los pedidos que hacen los clientes\n",
        "> * Inventario: son las existencias de artículos o productos de la tienda. \n",
        "\n",
        "> **2. Identificación de relaciones**\n",
        "> * Realiza, es una relación entre cliente y pedidos.\n",
        "\n",
        "> **[...]. [...]**\n",
        "\n",
        "\n",
        "> **X. Esquema conceptual** <br /> ![Image](https://sites.google.com/site/finanzasticsii22/_/rsrc/1471236803311/showcase/domain2/img_1_b.jpg)\n"
      ]
    },
    {
      "cell_type": "markdown",
      "metadata": {
        "id": "rjcIOnU1s9oM"
      },
      "source": [
        "> ## 3.2. **Diseño lógico**\n",
        "\n",
        "\n",
        "> ### **PASOS:**<br/>\n",
        "> **1. xxxxx**\n",
        "> * xxxxxxxx\n",
        "> * xxxx. \n",
        "\n",
        "> **2. xxxxx**\n",
        "> * xxxxxxxx\n",
        "> * xxxx.\n",
        "\n",
        "> **[...]. [...]**\n",
        "\n",
        "> **Acordaros que es opcional el paso de normalización y por tanto también el paso siguiente de desnormalización es opcional (es decir, si pones el paso de desnormalización pero no lo hacéis indicar que no lo haces porque no lo creéis conveniente y ya está)**\n",
        "\n",
        "> **X. Esquema lógico** <br/><br/>\n",
        ">TABLA1(atributo1, atributo2, atributo3, atributo4, …) <br/>\n",
        ">PK: {atributo1}<br/>\n",
        ">FK: {TABLA1.atributo4 es clave ajena a TABLA2.atributo}<br/>\n",
        ">¿Acepta nulos?:<br/>\n",
        ">Borrado:<br/>\n",
        ">Modificación:<br/><br/>\n",
        ">TABLA2(atributo1, atributo2, atributo3, atributo4, …) <br/>\n",
        ">PK: {atributo1}<br/>\n",
        ">FK: {TABLA1.atributo4 es clave ajena a TABLA2.atributo}<br/>\n",
        ">¿Acepta nulos?:<br/>\n",
        ">Borrado:<br/>\n",
        ">Modificación:<br/><br/>\n"
      ]
    },
    {
      "cell_type": "markdown",
      "metadata": {
        "id": "bP4M3s4Is9oM"
      },
      "source": [
        "> ## 3.2. **Diseño físico**\n",
        "\n",
        "\n",
        "> ### **PASOS:**<br/>\n",
        "> **1. xxxxx**\n",
        "> * xxxxxxxx\n",
        "> * xxxx. \n",
        "\n",
        "> **2. xxxxx**\n",
        "> * xxxxxxxx\n",
        "> * xxxx.\n",
        "\n",
        "> **[...]. [...]**\n",
        "\n",
        "> **X. Esquema físico** <br/><br/>\n",
        "\n",
        "> Es opcional realizar vistas. \n",
        "\n",
        "> El paso final para obtener el esquema físico es obtener todos los create table, create domain, etc. Poner el esquema físico final en el notebook como celdas Markdown.\n"
      ]
    },
    {
      "cell_type": "markdown",
      "metadata": {
        "id": "Anaa4NOZs9oM"
      },
      "source": [
        "___"
      ]
    },
    {
      "cell_type": "markdown",
      "metadata": {
        "id": "NyCmfZuSs9oM"
      },
      "source": [
        "## 4. Despliegue de la base de datos"
      ]
    },
    {
      "cell_type": "markdown",
      "metadata": {
        "id": "Ple2IOkAs9oM"
      },
      "source": [
        "> - Indicar/Explicar la cadena de conexión (y sus partes) a bbdd en local y en nube como celdas Markdown (recordar no poner aquí la contraseña, sustituir por “<contraseña>”). Las cadenas de conexión serán diferentes para local y nube.\n",
        "> - Haz la prueba de conexión en el notebook tanto local como nube como celda código en el notebook. Se dispone del código de ayuda de conexión en \n",
        "02MASW_PostgreSQL.ipynb. Si te ayuda puedes también hacerlo en PgAdmin4 o la consola de PostgreSQL para comprobaciones previas.\n",
        "> - Explicación de lo que se va a realizar en el despliegue en local y en la nube. Insertar alguna captura de pantalla para explicar algo si es necesario. Recuerda coger el esquema físico final (que también es fichero fisico.sql) y ponerlos como celda código en el notebook para ejecutarlo en PostgreSQL local y PostgreSQL en la nube en el notebook. Se dispone del código de ayuda en 02MASW_PostgreSQL.ipynb. Si te ayuda puedes también hacerlo en PgAdmin4 o la consola de PostgreSQL para comprobaciones previas\n",
        "> - Generar datos para los atributos de las tablas finales del esquema físico (datos para las tablas de los create table). Porque las tablas para hacer \n",
        "consultas deben contener datos. Entonces, generar código de inserción de datos (sentencias INSERT) para todas las tablas del esquema físico. "
      ]
    },
    {
      "cell_type": "markdown",
      "metadata": {
        "id": "NYXNHKwns9oM"
      },
      "source": [
        "___"
      ]
    },
    {
      "cell_type": "markdown",
      "metadata": {
        "id": "Jl84oh3us9oN"
      },
      "source": [
        "## 5. Consultas a base de datos "
      ]
    },
    {
      "cell_type": "markdown",
      "metadata": {
        "id": "pnozpskzs9oN"
      },
      "source": [
        "> ## 5.1 Consultas multitabla (con JOIN) – obligatorio\n",
        "Se deben realizar mínimo dos consultas con operador JOIN. Para cada consulta, hay que indicar por lo menos los siguientes puntos:\n",
        ">- Descripción de la consulta, ejemplo: Mostrar el nombre y teléfono de los \n",
        "clientes con edad superior a 50. Celda Markdown.\n",
        ">- Resultado esperado a modo de descripción. Celda Markdown.\n",
        ">- Código consulta bbdd. Celda Código.\n"
      ]
    },
    {
      "cell_type": "markdown",
      "metadata": {
        "id": "B2I0bSKRs9oN"
      },
      "source": [
        "> ## 5.2 Coonsultas con función de agregación (operaciones sobre conjuntos de filas) -opcional\n",
        "De forma opcional, se pueden realizar consultas con operadores de agregación: COUNT, MAX, MIN, SUM, AVG, …. Y también se puede usar \n",
        "GROUP BY y HAVING.<br/>\n",
        "Para cada consulta, hay que indicar por lo menos los siguientes puntos:\n",
        ">- Explicar consulta. Celda Markdown.\n",
        ">- Resultado esperado. Celda Markdown.\n",
        ">- Código consulta bbdd. Celda Código\n"
      ]
    },
    {
      "cell_type": "markdown",
      "metadata": {
        "id": "x9DBgxUXs9oN"
      },
      "source": [
        "> ## 5.3 Subconsultas -opcional\n",
        "De forma opcional, se pueden realizar subconsultas. Para cada consulta, hay \n",
        "que indicar por lo menos los siguientes puntos:\n",
        ">- Explicar consulta. Celda Markdown.\n",
        ">- Resultado esperado. Celda Markdown.\n",
        ">- Código consulta bbdd. Celda Código\n"
      ]
    },
    {
      "cell_type": "markdown",
      "metadata": {
        "id": "kVXmBTCXs9oN"
      },
      "source": [
        "___"
      ]
    },
    {
      "cell_type": "markdown",
      "metadata": {
        "id": "MWXWCgxMs9oN"
      },
      "source": [
        "## 6. Conclusiones"
      ]
    },
    {
      "cell_type": "markdown",
      "metadata": {
        "id": "CGWvQmARs9oN"
      },
      "source": [
        ">- Indicar las conclusiones de la actividad 1 en celdas de Markdown."
      ]
    },
    {
      "cell_type": "markdown",
      "metadata": {
        "id": "M_i2lAhZs9oN"
      },
      "source": [
        "___"
      ]
    }
  ],
  "metadata": {
    "kernelspec": {
      "display_name": "Python 3 (ipykernel)",
      "language": "python",
      "name": "python3"
    },
    "language_info": {
      "codemirror_mode": {
        "name": "ipython",
        "version": 3
      },
      "file_extension": ".py",
      "mimetype": "text/x-python",
      "name": "python",
      "nbconvert_exporter": "python",
      "pygments_lexer": "ipython3",
      "version": "3.9.12"
    },
    "colab": {
      "provenance": [],
      "include_colab_link": true
    }
  },
  "nbformat": 4,
  "nbformat_minor": 0
}